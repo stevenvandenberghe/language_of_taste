{
 "cells": [
  {
   "cell_type": "markdown",
   "metadata": {},
   "source": [
    "# The Language of Taste. Discursive Aspects of Brussels' Restaurant Reviews, 1960 - 2000. Data and code for chapter 2. "
   ]
  },
  {
   "cell_type": "markdown",
   "metadata": {},
   "source": [
    "## Introduction"
   ]
  },
  {
   "cell_type": "markdown",
   "metadata": {},
   "source": [
    "Chapter 2 describes the theory and methodology for this thesis. As such, it contains a significant amount of information about corpus design and considerations in corpus building. In this Jupyter Notebook, the steps of putting together the corpora used in this thesis are explained in greater detail, together with the code used to clean, enrich and query the data. Additionally, this notebook will be made available, together with the underlying data, upon submission of the associated thesis. Doing so provides added value in three distinct ways: 1) it provides transparency in how the results were obtained and as such can be considered a safeguard against against scientific fraud, 2) by making both data and code available, experiments can be repeated and adapted by anyone. While sharing the data fits within the framework of Open Data, it is its openness to be adapted that holds promise for future research. On the one hand, the underlying data can be queried along different analytical dimensions than those used in this text. The code which was written to analyse the texts, on the other hand, can easily be modified to run similar analyses on different texts."
   ]
  },
  {
   "cell_type": "markdown",
   "metadata": {},
   "source": [
    "The framework used for building and querying the corpora is NLTK (Natural Language Toolkit) for Python. NLTK is an open-source library which contains a rich set of tools for interacting with corpora. These corpora can be premade (these are included in the NLTK download) or they can be created by the user. The latter technique was employed for this thesis and will be explained in the notebook accompanying the next chapter. For the explanation of methods and techniques, some built-in corpora are used. "
   ]
  },
  {
   "cell_type": "code",
   "execution_count": 1,
   "metadata": {},
   "outputs": [],
   "source": [
    "import nltk"
   ]
  },
  {
   "cell_type": "code",
   "execution_count": null,
   "metadata": {},
   "outputs": [],
   "source": []
  }
 ],
 "metadata": {
  "kernelspec": {
   "display_name": "Python 3",
   "language": "python",
   "name": "python3"
  },
  "language_info": {
   "codemirror_mode": {
    "name": "ipython",
    "version": 3
   },
   "file_extension": ".py",
   "mimetype": "text/x-python",
   "name": "python",
   "nbconvert_exporter": "python",
   "pygments_lexer": "ipython3",
   "version": "3.6.3"
  }
 },
 "nbformat": 4,
 "nbformat_minor": 2
}
